{
 "cells": [
  {
   "cell_type": "code",
   "execution_count": 17,
   "metadata": {},
   "outputs": [],
   "source": [
    "import pandas as pd\n",
    "from datetime import datetime\n",
    "from datetime import timedelta\n",
    "import random\n",
    "import math\n",
    "import concurrent.futures\n",
    "from multiprocessing import Manager"
   ]
  },
  {
   "cell_type": "markdown",
   "metadata": {},
   "source": [
    "## Almost all configurable variables are kept here"
   ]
  },
  {
   "cell_type": "code",
   "execution_count": 18,
   "metadata": {},
   "outputs": [],
   "source": [
    "#day of weeks\n",
    "#Monday =0 .. Sunday=6\n",
    "work_days=range(5)\n",
    "\n",
    "start_working_time=8\n",
    "end_working_time=17\n",
    "#down period is in seconds\n",
    "down_for_all_day=False\n",
    "#up period is in seconds\n",
    "up_period=3600\n",
    "\n",
    "mac_list=[\"F6:B8:15:1E:A8:02\",\n",
    "            \"6C:D0:7E:63:10:F1\",\n",
    "            \"97:46:62:3B:15:2C\",\n",
    "            \"05:A6:2E:30:98:E2\"]\n",
    "#one flag for each mac\n",
    "plc_state=[False,False,False,False]\n",
    "pls_abnormal_state=[False,False,False,False]\n",
    "plc_counter=[0,0,0,0]\n",
    "max_cycle_time=[41,48,34,74]\n",
    "\n",
    "\n",
    "#mu is the mean\n",
    "mu_cycle_time=[24,27,21,38]\n",
    "mu_ram=[7464,8197,6465,9883]\n",
    "mu_packets=20\n",
    "mu_packets_size=50\n",
    "#sigma is the standard deviation\n",
    "sigma_cycle_time=4\n",
    "sigma_ram=256\n",
    "sigma_packets=3\n",
    "sigma_packets_size=15\n",
    "\n",
    "#from how many days ago should i start\n",
    "back_in_time = 365\n",
    "\n",
    "packets_nmap_probability=0.01\n",
    "packets_big_probability=0.01\n",
    "#probabilità che i sistemi siano spenti durante un giorno normale\n",
    "random_down_for_all_day_probability=0.01\n",
    "#probabilità che i sistemi siano accesi un ora durante un giorno di shutdown\n",
    "random_up_probability=0.01\n",
    "\n",
    "#window_check must be in seconds and \n",
    "new_day_check_time = datetime(1,1,1,0,0,0,0)\n",
    "\n",
    "day_start_time = datetime(1,1,1,0,0,0)\n",
    "day_stop_time = datetime(1,1,1,0,0,0)\n"
   ]
  },
  {
   "cell_type": "markdown",
   "metadata": {},
   "source": [
    "## variables regarding the temporal space to generate the data"
   ]
  },
  {
   "cell_type": "code",
   "execution_count": 19,
   "metadata": {},
   "outputs": [],
   "source": [
    "days_to_go_back = 31\n",
    "frequency = '5S'   #every second\n",
    "\n",
    "start_date = (datetime.today() - timedelta(days = days_to_go_back)).replace(hour=0,minute=0,second=0, microsecond=0)\n",
    "stop_date = datetime.today().replace(hour=0,minute=0,second=0, microsecond=0)\n",
    "\n",
    "#datelist = pd.date_range(datetime.today() - timedelta(days = back_in_time), datetime.today(), freq='S').tolist()\n",
    "datelist = pd.date_range(start_date, stop_date, freq=frequency).tolist()"
   ]
  },
  {
   "cell_type": "code",
   "execution_count": 20,
   "metadata": {},
   "outputs": [
    {
     "name": "stdout",
     "output_type": "stream",
     "text": [
      "535681\n",
      "2023-10-30 00:00:05\n"
     ]
    }
   ],
   "source": [
    "# how many rows are created\n",
    "print(len(datelist))\n",
    "#to check that the first line is actually spaced out from 00:00:00 the time you chose\n",
    "print(datelist[1])"
   ]
  },
  {
   "cell_type": "markdown",
   "metadata": {},
   "source": [
    "## Functions to simplify the code down and making easier to mantain"
   ]
  },
  {
   "cell_type": "code",
   "execution_count": 21,
   "metadata": {},
   "outputs": [],
   "source": [
    "def generate_cpu_cycle_time( date, mac_index):\n",
    "    return math.floor(random.gauss(mu=mu_cycle_time[mac_index],sigma=sigma_cycle_time))"
   ]
  },
  {
   "cell_type": "code",
   "execution_count": 22,
   "metadata": {},
   "outputs": [],
   "source": [
    "def generate_ram_usage(date, mac_index):\n",
    "    return math.floor(random.gauss(mu=mu_ram[mac_index],sigma=sigma_ram))"
   ]
  },
  {
   "cell_type": "markdown",
   "metadata": {},
   "source": [
    "### ping packets are 56 bytes"
   ]
  },
  {
   "cell_type": "code",
   "execution_count": 23,
   "metadata": {},
   "outputs": [],
   "source": [
    "def generate_rx_size(packet_n, date, mac_index):\n",
    "    result = 0\n",
    "    for i in range(packet_n):\n",
    "        result += random.gauss(mu=mu_packets_size,sigma=sigma_packets_size)\n",
    "    return math.floor(result)"
   ]
  },
  {
   "cell_type": "code",
   "execution_count": 24,
   "metadata": {},
   "outputs": [],
   "source": [
    "def generate_tx_size(packet_n, date, mac_index):\n",
    "    result = 0\n",
    "    for i in range(packet_n):\n",
    "        result += random.gauss(mu=mu_packets_size,sigma=sigma_packets_size)\n",
    "    return math.floor(result)"
   ]
  },
  {
   "cell_type": "markdown",
   "metadata": {},
   "source": [
    "## randomize the starting time with a margin of 15 minnutes, to make shure the data are not too predictable"
   ]
  },
  {
   "cell_type": "code",
   "execution_count": 25,
   "metadata": {},
   "outputs": [],
   "source": [
    "#TODO: refactoring with variables and not static integers\n",
    "\n",
    "def randomize_start_and_stop():\n",
    "    global day_start_time\n",
    "    global day_stop_time\n",
    "\n",
    "    day_start_time = day_start_time.replace(hour=random.randint(7,8))\n",
    "    if (day_start_time.hour == 8):\n",
    "        day_start_time = day_start_time.replace(minute=random.randint(0,15))\n",
    "    else:\n",
    "        day_start_time = day_start_time.replace(minute=59-random.randint(0,15))\n",
    "\n",
    "    day_stop_time = day_start_time.replace(hour=random.randint(16,17))\n",
    "    if (day_stop_time.hour == 17):\n",
    "        day_stop_time = day_stop_time.replace(minute=random.randint(0,15))\n",
    "    else:\n",
    "        day_stop_time = day_stop_time.replace(minute=59-random.randint(0,15))"
   ]
  },
  {
   "cell_type": "code",
   "execution_count": 26,
   "metadata": {},
   "outputs": [],
   "source": [
    "#even if is a simple function in case someone need to extend the code of this part can be done in an easier way\n",
    "def new_day_check (date):\n",
    "    if( date.time() == new_day_check_time.time() ):\n",
    "        randomize_start_and_stop()"
   ]
  },
  {
   "cell_type": "code",
   "execution_count": 27,
   "metadata": {},
   "outputs": [],
   "source": [
    "#TODO: expand this functions to generate also errors and \"attacks\"\n",
    "\n",
    "def check_plc_state(date, plc_index):\n",
    "    if(date.dayofweek in work_days and day_start_time.time() <= date.time() <= day_stop_time.time()):\n",
    "        plc_state[plc_index]=True\n",
    "    else:\n",
    "        plc_state[plc_index]=False"
   ]
  },
  {
   "cell_type": "code",
   "execution_count": 28,
   "metadata": {},
   "outputs": [],
   "source": [
    "#TODO: make the function right and add in the upper cell\n",
    "def check_plc_status_old(date, plc_index):\n",
    "\n",
    "    if(date.dayofweek in work_days):\n",
    "        if (plc_state[plc_index]==False):\n",
    "            if (plc_counter[plc_index]>=up_period):\n",
    "                plc_state[plc_index]=True\n",
    "            plc_counter += 1\n",
    "\n",
    "        elif (random.random()<=random_up_probability):\n",
    "            plc_state[plc_index]=False\n",
    "\n",
    "    elif (plc_state[plc_index]==True):\n",
    "        if (plc_counter[plc_index]>=down_for_all_day):\n",
    "            plc_state[plc_index]=False\n",
    "        plc_counter += 1\n",
    "    \n",
    "    elif (random.random()<=random_down_for_all_day_probability):\n",
    "            plc_state[plc_index]=True\n",
    "            plc_counter += 1"
   ]
  },
  {
   "cell_type": "code",
   "execution_count": 29,
   "metadata": {},
   "outputs": [],
   "source": [
    "#columns names\n",
    "columns =[\"timestamp\",\"mac_address\",\"cpu_max_cycle\",\"cpu_current_cycle\",\"ram_usage\",\"rx_packets\",\"rx_bytes\",\"tx_packets\",\"tx_bytes\",\"flag\"]"
   ]
  },
  {
   "cell_type": "markdown",
   "metadata": {},
   "source": [
    "## REAL process function that generate the data\n",
    "This function get a date, devide it with a frequency that can be 10 or 1 second (manual mod), generate the rows of each subdivision, append all of them in a list, and then return the result."
   ]
  },
  {
   "cell_type": "code",
   "execution_count": 30,
   "metadata": {},
   "outputs": [],
   "source": [
    "result = []\n",
    "\n",
    "for date in datelist:\n",
    "    new_day_check(date)\n",
    "    for plc in range(0,len(mac_list)):        \n",
    "        check_plc_state(date, plc)\n",
    "        if(plc_state[plc]):\n",
    "            cpu_time = generate_cpu_cycle_time(date, plc)\n",
    "            ram_usage = generate_ram_usage(date, plc)\n",
    "            tx_packets=math.floor(random.gauss(mu_packets, sigma_packets))\n",
    "            tx_bytes=generate_tx_size(tx_packets, date, plc)\n",
    "            rx_packets=math.floor(random.gauss(mu_packets, sigma_packets))\n",
    "            rx_bytes=generate_rx_size(rx_packets, date, plc)\n",
    "            new_row = {'timestamp': date,\n",
    "                        'mac_address': mac_list[plc], \n",
    "                        'cpu_max_cycle': max_cycle_time[plc], \n",
    "                        'cpu_current_cycle': cpu_time,\n",
    "                        'ram_usage': ram_usage,\n",
    "                        'rx_packets': rx_packets,\n",
    "                        'rx_bytes': rx_bytes,\n",
    "                        'tx_packets': tx_packets,\n",
    "                        'tx_bytes': tx_bytes,\n",
    "                        'flag': \"ok\"}\n",
    "            result.append(new_row)\n",
    "\n",
    "df = pd.DataFrame(result)"
   ]
  },
  {
   "cell_type": "code",
   "execution_count": 31,
   "metadata": {},
   "outputs": [
    {
     "data": {
      "text/plain": [
       "(592748, 10)"
      ]
     },
     "execution_count": 31,
     "metadata": {},
     "output_type": "execute_result"
    }
   ],
   "source": [
    "df.shape"
   ]
  },
  {
   "cell_type": "code",
   "execution_count": 32,
   "metadata": {},
   "outputs": [],
   "source": [
    "df.to_csv(\"data_single_core-5s.csv\")"
   ]
  }
 ],
 "metadata": {
  "kernelspec": {
   "display_name": "Python 3",
   "language": "python",
   "name": "python3"
  },
  "language_info": {
   "codemirror_mode": {
    "name": "ipython",
    "version": 3
   },
   "file_extension": ".py",
   "mimetype": "text/x-python",
   "name": "python",
   "nbconvert_exporter": "python",
   "pygments_lexer": "ipython3",
   "version": "3.11.6"
  }
 },
 "nbformat": 4,
 "nbformat_minor": 2
}
