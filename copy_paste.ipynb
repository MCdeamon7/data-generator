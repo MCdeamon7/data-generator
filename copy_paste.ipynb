{
 "cells": [
  {
   "cell_type": "markdown",
   "metadata": {},
   "source": [
    "# Single Core Generator"
   ]
  },
  {
   "cell_type": "code",
   "execution_count": null,
   "metadata": {},
   "outputs": [],
   "source": [
    "randomize_start_and_stop()\n",
    "\n",
    "for date in datelist:\n",
    "    #print (date)\n",
    "    new_day_check(date)\n",
    "    for plc in range(0,len(mac_list)): \n",
    "        #print(mac_list[plc])\n",
    "        \n",
    "        check_plc_state(date, plc)\n",
    "        \n",
    "        if(plc_state[plc]):\n",
    "            cpu_time = generate_cpu_cycle_time(date, plc)\n",
    "            ram_usage = generate_ram_usage(date, plc)\n",
    "            tx_packets=math.floor(random.gauss(mu_packets, sigma_packets))\n",
    "            tx_bytes=generate_tx_size(tx_packets, date, plc)\n",
    "            rx_packets=math.floor(random.gauss(mu_packets, sigma_packets))\n",
    "            rx_bytes=generate_rx_size(rx_packets, date, plc)\n",
    "            new_row = {'timestamp': date,\n",
    "                        'mac_address': mac_list[plc], \n",
    "                        'cpu_max_cycle': max_cycle_time[plc], \n",
    "                        'cpu_current_cycle': cpu_time,\n",
    "                        'ram_usage': ram_usage,\n",
    "                        'rx_packets': rx_packets,\n",
    "                        'rx_bytes': rx_bytes,\n",
    "                        'tx_packets': tx_packets,\n",
    "                        'tx_bytes': tx_bytes,\n",
    "                        'flag': \"ok\"}\n",
    "            df = pd.concat([df, pd.DataFrame([new_row])], ignore_index=True)"
   ]
  }
 ],
 "metadata": {
  "language_info": {
   "name": "python"
  }
 },
 "nbformat": 4,
 "nbformat_minor": 2
}
